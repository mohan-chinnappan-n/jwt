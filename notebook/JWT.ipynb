{
 "cells": [
  {
   "cell_type": "code",
   "execution_count": 108,
   "metadata": {
    "collapsed": false
   },
   "outputs": [
    {
     "name": "stdout",
     "output_type": "stream",
     "text": [
      "{\"alg\": \"HS256\", \"typ\": \"JWT\"}\n",
      "('{\"alg\": \"HS256\", \"typ\": \"JWT\"}', '{\"loggedInAs\": \"Manager\", \"exp\": \"2017-01-16 19:13:08.4407601 day, 0:00:00\", \"iat\": 1484611988.0}')\n"
     ]
    }
   ],
   "source": [
    "# spec: https://tools.ietf.org/html/rfc7519\n",
    "# wiki: https://en.wikipedia.org/wiki/JSON_Web_Token\n",
    "# hmac: https://pymotw.com/2/hmac/\n",
    "\n",
    "import time\n",
    "import datetime\n",
    "import base64\n",
    "import json\n",
    "\n",
    " \n",
    "HOURS = 24\n",
    "\n",
    "DOT = '.'\n",
    "sr = \"mysecret\"\n",
    "alg = 'HS256'\n",
    "\n",
    "header = {\"alg\": \"HS256\", \"typ\": \"JWT\"}\n",
    "payload = {\"loggedInAs\": \"Manager\", \\\n",
    "            \"exp\": str(datetime.datetime.utcnow()) + str(datetime.timedelta(seconds= 3600 * HOURS)),\\\n",
    "            \"iat\":   time.mktime(datetime.datetime.utcnow().timetuple())  }\n",
    "print (json.dumps(header))\n",
    "print (json.dumps(header), json.dumps(payload))\n"
   ]
  },
  {
   "cell_type": "markdown",
   "metadata": {},
   "source": [
    "### Unsigned token"
   ]
  },
  {
   "cell_type": "code",
   "execution_count": 109,
   "metadata": {
    "collapsed": false
   },
   "outputs": [
    {
     "name": "stdout",
     "output_type": "stream",
     "text": [
      "eyJhbGciOiAiSFMyNTYiLCAidHlwIjogIkpXVCJ9.eyJsb2dnZWRJbkFzIjogIk1hbmFnZXIiLCAiZXhwIjogIjIwMTctMDEtMTYgMTk6MTM6MDguNDQwNzYwMSBkYXksIDA6MDA6MDAiLCAiaWF0IjogMTQ4NDYxMTk4OC4wfQ==\n"
     ]
    }
   ],
   "source": [
    "unsigned_token = base64.b64encode(json.dumps(header) ) + DOT + base64.b64encode(json.dumps(payload) )\n",
    "print (unsigned_token)\n"
   ]
  },
  {
   "cell_type": "markdown",
   "metadata": {},
   "source": [
    "### Signature wusing HMAC-SHA256"
   ]
  },
  {
   "cell_type": "code",
   "execution_count": 120,
   "metadata": {
    "collapsed": false
   },
   "outputs": [
    {
     "name": "stdout",
     "output_type": "stream",
     "text": [
      "Hex Signature:2e93d1807d9c5c7365fd508d9ba42e031658bd3b61760c22bf97e559e9ffc399\n",
      "Encoded Signaute: LpPRgH2cXHNl/VCNm6QuAxZYvTthdgwiv5flWen/w5k=\n"
     ]
    }
   ],
   "source": [
    "import hashlib\n",
    "import hmac\n",
    "\n",
    "print (\"Hex Signature:\" + hmac.new(sr, unsigned_token, digestmod=hashlib.sha256).hexdigest())\n",
    "\n",
    "signature =  hmac.new(sr, unsigned_token, digestmod=hashlib.sha256).digest()\n",
    "print (\"Encoded Signaute: \" +  base64.b64encode(signature))"
   ]
  },
  {
   "cell_type": "markdown",
   "metadata": {},
   "source": [
    "### Sign token with signature"
   ]
  },
  {
   "cell_type": "code",
   "execution_count": 111,
   "metadata": {
    "collapsed": false
   },
   "outputs": [
    {
     "name": "stdout",
     "output_type": "stream",
     "text": [
      "eyJhbGciOiAiSFMyNTYiLCAidHlwIjogIkpXVCJ9.eyJsb2dnZWRJbkFzIjogIk1hbmFnZXIiLCAiZXhwIjogIjIwMTctMDEtMTYgMTk6MTM6MDguNDQwNzYwMSBkYXksIDA6MDA6MDAiLCAiaWF0IjogMTQ4NDYxMTk4OC4wfQ==.LpPRgH2cXHNl/VCNm6QuAxZYvTthdgwiv5flWen/w5k=\n"
     ]
    }
   ],
   "source": [
    "signed_token = unsigned_token +  DOT + base64.b64encode(signature)\n",
    "print (signed_token)\n",
    "# check it at https://jwt.io/"
   ]
  },
  {
   "cell_type": "markdown",
   "metadata": {},
   "source": [
    "### Check it back"
   ]
  },
  {
   "cell_type": "code",
   "execution_count": 121,
   "metadata": {
    "collapsed": false
   },
   "outputs": [
    {
     "name": "stdout",
     "output_type": "stream",
     "text": [
      "header:{\"alg\": \"HS256\", \"typ\": \"JWT\"}\n"
     ]
    }
   ],
   "source": [
    "h, p, s = signed_token.split('.')\n",
    "print (\"header:\" + base64.b64decode(h))"
   ]
  },
  {
   "cell_type": "code",
   "execution_count": 125,
   "metadata": {
    "collapsed": false
   },
   "outputs": [
    {
     "name": "stdout",
     "output_type": "stream",
     "text": [
      "payload:{\"loggedInAs\": \"Manager\", \"exp\": \"2017-01-16 19:13:08.4407601 day, 0:00:00\", \"iat\": 1484611988.0}\n",
      "signature:.�р}�\\se�P���.\u0003\u0016X�;av\f",
      "\"���Y��Ù\n"
     ]
    }
   ],
   "source": [
    "print (\"payload:\"   + base64.b64decode(p))\n",
    "print (\"signature:\" + base64.b64decode(s))"
   ]
  },
  {
   "cell_type": "code",
   "execution_count": 126,
   "metadata": {
    "collapsed": false
   },
   "outputs": [
    {
     "name": "stdout",
     "output_type": "stream",
     "text": [
      "unsighed token:eyJhbGciOiAiSFMyNTYiLCAidHlwIjogIkpXVCJ9.eyJsb2dnZWRJbkFzIjogIk1hbmFnZXIiLCAiZXhwIjogIjIwMTctMDEtMTYgMTk6MTM6MDguNDQwNzYwMSBkYXksIDA6MDA6MDAiLCAiaWF0IjogMTQ4NDYxMTk4OC4wfQ==\n"
     ]
    }
   ],
   "source": [
    "ut = h + DOT + p\n",
    "print (\"unsighed token:\" + ut)\n"
   ]
  },
  {
   "cell_type": "markdown",
   "metadata": {},
   "source": [
    "#### compare hashes"
   ]
  },
  {
   "cell_type": "code",
   "execution_count": 116,
   "metadata": {
    "collapsed": false
   },
   "outputs": [
    {
     "name": "stdout",
     "output_type": "stream",
     "text": [
      "('LpPRgH2cXHNl/VCNm6QuAxZYvTthdgwiv5flWen/w5k=', 'LpPRgH2cXHNl/VCNm6QuAxZYvTthdgwiv5flWen/w5k=')\n"
     ]
    }
   ],
   "source": [
    "got_signature = base64.b64encode ( hmac.new(sr, ut, digestmod=hashlib.sha256).digest())\n",
    "print (got_signature, base64.b64encode(base64.b64decode(s) ))"
   ]
  },
  {
   "cell_type": "code",
   "execution_count": 131,
   "metadata": {
    "collapsed": false
   },
   "outputs": [
    {
     "name": "stdout",
     "output_type": "stream",
     "text": [
      "Valid?:True\n"
     ]
    }
   ],
   "source": [
    "valid = got_signature == base64.b64encode(base64.b64decode(s)) \n",
    "print (\"Valid?:\" + str(valid))"
   ]
  }
 ],
 "metadata": {
  "anaconda-cloud": {},
  "kernelspec": {
   "display_name": "Python [default]",
   "language": "python",
   "name": "python2"
  },
  "language_info": {
   "codemirror_mode": {
    "name": "ipython",
    "version": 2
   },
   "file_extension": ".py",
   "mimetype": "text/x-python",
   "name": "python",
   "nbconvert_exporter": "python",
   "pygments_lexer": "ipython2",
   "version": "2.7.12"
  }
 },
 "nbformat": 4,
 "nbformat_minor": 1
}
